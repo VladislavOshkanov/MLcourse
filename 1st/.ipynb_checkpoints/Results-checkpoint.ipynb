{
 "cells": [
  {
   "cell_type": "markdown",
   "metadata": {},
   "source": [
    "# Support Vector Machines"
   ]
  },
  {
   "cell_type": "code",
   "execution_count": null,
   "metadata": {
    "collapsed": true
   },
   "outputs": [],
   "source": [
    "print(datetime.now())\n",
    "\n",
    "clf = svm.SVC()\n",
    "\n",
    "test_dataset_size = len (test_images)\n",
    "train_dataset_size = len(train_images)\n",
    "\n",
    "clf.fit (train_images.reshape(train_dataset_size, -1), train_labels)\n",
    "array = clf.predict(test_images.reshape(test_dataset_size, -1))\n",
    "\n",
    "\n",
    "n_mistakes = 0\n",
    "i = 0\n",
    "array_length = len(array)\n",
    "for element in array:\n",
    "    if test_labels[i] != array[i]:\n",
    "         n_mistakes = n_mistakes + 1\n",
    "    i = i + 1\n",
    "print (array_length)\n",
    "print (n_mistakes)\n",
    "accuracy = (array_length - n_mistakes) / (n_mistakes)\n",
    "print('accuracy: ', accuracy)\n",
    "\n",
    "print(datetime.now())"
   ]
  },
  {
   "cell_type": "markdown",
   "metadata": {},
   "source": [
    "accuracy=17.05\n",
    "Время работы 14 минут"
   ]
  },
  {
   "cell_type": "markdown",
   "metadata": {},
   "source": [
    "# Gaussian Bayes"
   ]
  },
  {
   "cell_type": "code",
   "execution_count": null,
   "metadata": {
    "collapsed": true
   },
   "outputs": [],
   "source": [
    "print(datetime.now())\n",
    "\n",
    "gnb = GaussianNB()\n",
    "\n",
    "train_dataset_size = len(train_images)\n",
    "test_dataset_size = len (test_images)\n",
    "\n",
    "gnb.fit (train_images.reshape(train_dataset_size, -1), train_labels)\n",
    "array = gnb.predict(test_images.reshape(test_dataset_size, -1))\n",
    "\n",
    "n_mistakes = 0\n",
    "i = 0\n",
    "array_length = len(array)\n",
    "for element in array:\n",
    "    if test_labels[i] != array[i]:\n",
    "         n_mistakes = n_mistakes + 1\n",
    "    i = i + 1\n",
    "print (array_length)\n",
    "print (n_mistakes)\n",
    "accuracy = (array_length - n_mistakes) / (n_mistakes)\n",
    "print('accuracy: ', accuracy)\n",
    "\n",
    "print(datetime.now())"
   ]
  },
  {
   "cell_type": "markdown",
   "metadata": {},
   "source": [
    "accuracy=1.25\n",
    "Время работы 1 секунда"
   ]
  },
  {
   "cell_type": "markdown",
   "metadata": {},
   "source": [
    "# 15 nearest neighbors"
   ]
  },
  {
   "cell_type": "code",
   "execution_count": null,
   "metadata": {
    "collapsed": true
   },
   "outputs": [],
   "source": [
    "print(datetime.now())\n",
    "\n",
    "n_neighbors = 15\n",
    "train_dataset_size = len(train_images)\n",
    "test_dataset_size = len (test_images)\n",
    "\n",
    "clf = neighbors.KNeighborsClassifier(n_neighbors)\n",
    "clf.fit (train_images.reshape(train_dataset_size, -1), train_labels)\n",
    "\n",
    "array = clf.predict(test_images.reshape(test_dataset_size, -1))\n",
    "\n",
    "\n",
    "n_mistakes = 0\n",
    "i = 0\n",
    "array_length = len(array)\n",
    "for element in array:\n",
    "    if test_labels[i] != array[i]:\n",
    "         n_mistakes = n_mistakes + 1\n",
    "    i = i + 1\n",
    "print (array_length)\n",
    "print (n_mistakes)\n",
    "accuracy = (array_length - n_mistakes) / (n_mistakes)\n",
    "print('accuracy: ', accuracy)\n",
    "\n",
    "print(datetime.now())"
   ]
  },
  {
   "cell_type": "markdown",
   "metadata": {},
   "source": [
    "accuracy=26.24\n",
    "Время работы 14 минут\n",
    "//При таком же времени работы, как у SVM, accuracy гораздо выше "
   ]
  },
  {
   "cell_type": "markdown",
   "metadata": {},
   "source": [
    "# Decision trees"
   ]
  },
  {
   "cell_type": "code",
   "execution_count": null,
   "metadata": {
    "collapsed": true
   },
   "outputs": [],
   "source": [
    "print(datetime.now())\n",
    "\n",
    "train_dataset_size = len(train_images)\n",
    "test_dataset_size = len (test_images)\n",
    "\n",
    "clf = tree.DecisionTreeClassifier()\n",
    "clf = clf.fit(train_images.reshape(train_dataset_size, -1), train_labels)\n",
    "\n",
    "array = clf.predict(test_images.reshape(test_dataset_size, -1))\n",
    "\n",
    "n_mistakes = 0\n",
    "i = 0\n",
    "array_length = len(array)\n",
    "for element in array:\n",
    "    if test_labels[i] != array[i]:\n",
    "         n_mistakes = n_mistakes + 1\n",
    "    i = i + 1\n",
    "print (array_length)\n",
    "print (n_mistakes)\n",
    "accuracy = (array_length - n_mistakes) / (n_mistakes)\n",
    "print('accuracy: ', accuracy)\n",
    "print(datetime.now())"
   ]
  },
  {
   "cell_type": "markdown",
   "metadata": {},
   "source": [
    "accuracy=7.14\n",
    "Время работы 20 секунд"
   ]
  }
 ],
 "metadata": {
  "kernelspec": {
   "display_name": "Python 3",
   "language": "python",
   "name": "python3"
  },
  "language_info": {
   "codemirror_mode": {
    "name": "ipython",
    "version": 3
   },
   "file_extension": ".py",
   "mimetype": "text/x-python",
   "name": "python",
   "nbconvert_exporter": "python",
   "pygments_lexer": "ipython3",
   "version": "3.6.2"
  }
 },
 "nbformat": 4,
 "nbformat_minor": 2
}
